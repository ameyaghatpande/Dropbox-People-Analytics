{
 "cells": [
  {
   "cell_type": "code",
   "execution_count": 136,
   "metadata": {
    "collapsed": true
   },
   "outputs": [],
   "source": [
    "# <aghatpande> on 22-Nov-2017\n",
    "# print all the outputs in a cell\n",
    "from IPython.core.interactiveshell import InteractiveShell\n",
    "InteractiveShell.ast_node_interactivity = \"all\""
   ]
  },
  {
   "cell_type": "code",
   "execution_count": 137,
   "metadata": {
    "collapsed": true
   },
   "outputs": [],
   "source": [
    "# <aghatpande> on 22-Nov-2017\n",
    "# Import the necessary libraries\n",
    "import pandas as pd\n",
    "%matplotlib inline\n",
    "import matplotlib.pyplot as plt\n",
    "import numpy as np\n",
    "from sklearn.preprocessing import StandardScaler"
   ]
  },
  {
   "cell_type": "code",
   "execution_count": 138,
   "metadata": {
    "collapsed": true
   },
   "outputs": [],
   "source": [
    "# <aghatpande> on 22-Nov-2017\n",
    "# Load the Data\n",
    "DropBoxDF = pd.read_excel(\"HireArt-Data-Analyst-Exercise.xlsx\")"
   ]
  },
  {
   "cell_type": "code",
   "execution_count": 139,
   "metadata": {
    "collapsed": true
   },
   "outputs": [],
   "source": [
    "# <aghatpande> on 22-Nov-2017\n",
    "# User defined function to get the \"Month\" and \"Year\" part out of the date field\n",
    "def getMonthYear(x):\n",
    "    return str(x)[:7]"
   ]
  },
  {
   "cell_type": "code",
   "execution_count": 140,
   "metadata": {
    "collapsed": false
   },
   "outputs": [],
   "source": [
    "DropBoxDF[\"month-year\"] = DropBoxDF[\"Date of Contact\"].apply(lambda x: getMonthYear(x))"
   ]
  },
  {
   "cell_type": "code",
   "execution_count": 141,
   "metadata": {
    "collapsed": false,
    "scrolled": true
   },
   "outputs": [
    {
     "data": {
      "text/html": [
       "<div>\n",
       "<table border=\"1\" class=\"dataframe\">\n",
       "  <thead>\n",
       "    <tr style=\"text-align: right;\">\n",
       "      <th></th>\n",
       "      <th>Account manager</th>\n",
       "      <th>Client Name</th>\n",
       "      <th>Date of Contact</th>\n",
       "      <th>month-year</th>\n",
       "    </tr>\n",
       "  </thead>\n",
       "  <tbody>\n",
       "    <tr>\n",
       "      <th>0</th>\n",
       "      <td>Rigoberto White</td>\n",
       "      <td>Medhurst, Ankunding and Wolff</td>\n",
       "      <td>2013-10-03</td>\n",
       "      <td>2013-10</td>\n",
       "    </tr>\n",
       "    <tr>\n",
       "      <th>1</th>\n",
       "      <td>Chauncey Dach</td>\n",
       "      <td>Donnelly-Champlin</td>\n",
       "      <td>2013-10-04</td>\n",
       "      <td>2013-10</td>\n",
       "    </tr>\n",
       "    <tr>\n",
       "      <th>2</th>\n",
       "      <td>Milan Crona</td>\n",
       "      <td>Orn, Russel and O'Reilly</td>\n",
       "      <td>2013-10-04</td>\n",
       "      <td>2013-10</td>\n",
       "    </tr>\n",
       "    <tr>\n",
       "      <th>3</th>\n",
       "      <td>Rigoberto White</td>\n",
       "      <td>Fahey, Wunsch and Bashirian</td>\n",
       "      <td>2013-10-04</td>\n",
       "      <td>2013-10</td>\n",
       "    </tr>\n",
       "    <tr>\n",
       "      <th>4</th>\n",
       "      <td>Chauncey Dach</td>\n",
       "      <td>Koss Inc</td>\n",
       "      <td>2013-10-05</td>\n",
       "      <td>2013-10</td>\n",
       "    </tr>\n",
       "  </tbody>\n",
       "</table>\n",
       "</div>"
      ],
      "text/plain": [
       "   Account manager                    Client Name Date of Contact month-year\n",
       "0  Rigoberto White  Medhurst, Ankunding and Wolff      2013-10-03    2013-10\n",
       "1    Chauncey Dach              Donnelly-Champlin      2013-10-04    2013-10\n",
       "2      Milan Crona       Orn, Russel and O'Reilly      2013-10-04    2013-10\n",
       "3  Rigoberto White    Fahey, Wunsch and Bashirian      2013-10-04    2013-10\n",
       "4    Chauncey Dach                       Koss Inc      2013-10-05    2013-10"
      ]
     },
     "execution_count": 141,
     "metadata": {},
     "output_type": "execute_result"
    }
   ],
   "source": [
    "# <aghatpande> on 22-Nov-2017\n",
    "# Sample data with the new column\n",
    "DropBoxDF.head(5)"
   ]
  },
  {
   "cell_type": "code",
   "execution_count": 142,
   "metadata": {
    "collapsed": false
   },
   "outputs": [
    {
     "data": {
      "text/plain": [
       "35"
      ]
     },
     "execution_count": 142,
     "metadata": {},
     "output_type": "execute_result"
    }
   ],
   "source": [
    "# <aghatpande> on 22-Nov-2017\n",
    "# Find the unique number of clients available\n",
    "len(DropBoxDF[\"Client Name\"].unique())"
   ]
  },
  {
   "cell_type": "code",
   "execution_count": 163,
   "metadata": {
    "collapsed": false
   },
   "outputs": [],
   "source": [
    "# <aghatpande> on 22-Nov-2017\n",
    "# Find the number of clients contacted by the team per month per year. Remove the duplicates\n",
    "groupbyMonthYearDF = DropBoxDF[[\"month-year\", \"Client Name\"]].groupby([\"month-year\"], as_index=False).agg({\"Client Name\":\"nunique\"}).rename(columns={'Client Name':'Number of unique Clients contacted'})"
   ]
  },
  {
   "cell_type": "code",
   "execution_count": 164,
   "metadata": {
    "collapsed": false
   },
   "outputs": [
    {
     "data": {
      "text/html": [
       "<div>\n",
       "<table border=\"1\" class=\"dataframe\">\n",
       "  <thead>\n",
       "    <tr style=\"text-align: right;\">\n",
       "      <th></th>\n",
       "      <th>month-year</th>\n",
       "      <th>Number of unique Clients contacted</th>\n",
       "    </tr>\n",
       "  </thead>\n",
       "  <tbody>\n",
       "    <tr>\n",
       "      <th>0</th>\n",
       "      <td>2013-10</td>\n",
       "      <td>31</td>\n",
       "    </tr>\n",
       "    <tr>\n",
       "      <th>1</th>\n",
       "      <td>2013-11</td>\n",
       "      <td>12</td>\n",
       "    </tr>\n",
       "  </tbody>\n",
       "</table>\n",
       "</div>"
      ],
      "text/plain": [
       "  month-year  Number of unique Clients contacted\n",
       "0    2013-10                                  31\n",
       "1    2013-11                                  12"
      ]
     },
     "execution_count": 164,
     "metadata": {},
     "output_type": "execute_result"
    }
   ],
   "source": [
    "groupbyMonthYearDF.head(2)"
   ]
  },
  {
   "cell_type": "code",
   "execution_count": 165,
   "metadata": {
    "collapsed": false
   },
   "outputs": [],
   "source": [
    "# <aghatpande> on 22-Nov-2017\n",
    "# Create a new column for percentage of clients contacted\n",
    "groupbyMonthYearDF[\"Percentage of Clients contacted\"] = groupbyMonthYearDF[\"Number of unique Clients contacted\"]/35"
   ]
  },
  {
   "cell_type": "code",
   "execution_count": 166,
   "metadata": {
    "collapsed": false
   },
   "outputs": [
    {
     "data": {
      "text/html": [
       "<div>\n",
       "<table border=\"1\" class=\"dataframe\">\n",
       "  <thead>\n",
       "    <tr style=\"text-align: right;\">\n",
       "      <th></th>\n",
       "      <th>month-year</th>\n",
       "      <th>Number of unique Clients contacted</th>\n",
       "      <th>Percentage of Clients contacted</th>\n",
       "    </tr>\n",
       "  </thead>\n",
       "  <tbody>\n",
       "    <tr>\n",
       "      <th>0</th>\n",
       "      <td>2013-10</td>\n",
       "      <td>31</td>\n",
       "      <td>0.885714</td>\n",
       "    </tr>\n",
       "    <tr>\n",
       "      <th>12</th>\n",
       "      <td>2014-10</td>\n",
       "      <td>28</td>\n",
       "      <td>0.800000</td>\n",
       "    </tr>\n",
       "    <tr>\n",
       "      <th>24</th>\n",
       "      <td>2015-10</td>\n",
       "      <td>28</td>\n",
       "      <td>0.800000</td>\n",
       "    </tr>\n",
       "    <tr>\n",
       "      <th>36</th>\n",
       "      <td>2016-10</td>\n",
       "      <td>25</td>\n",
       "      <td>0.714286</td>\n",
       "    </tr>\n",
       "    <tr>\n",
       "      <th>11</th>\n",
       "      <td>2014-09</td>\n",
       "      <td>23</td>\n",
       "      <td>0.657143</td>\n",
       "    </tr>\n",
       "  </tbody>\n",
       "</table>\n",
       "</div>"
      ],
      "text/plain": [
       "   month-year  Number of unique Clients contacted  \\\n",
       "0     2013-10                                  31   \n",
       "12    2014-10                                  28   \n",
       "24    2015-10                                  28   \n",
       "36    2016-10                                  25   \n",
       "11    2014-09                                  23   \n",
       "\n",
       "    Percentage of Clients contacted  \n",
       "0                          0.885714  \n",
       "12                         0.800000  \n",
       "24                         0.800000  \n",
       "36                         0.714286  \n",
       "11                         0.657143  "
      ]
     },
     "execution_count": 166,
     "metadata": {},
     "output_type": "execute_result"
    }
   ],
   "source": [
    "groupbyMonthYearDF.sort_values(\"Percentage of Clients contacted\", ascending=False).head(5)"
   ]
  },
  {
   "cell_type": "code",
   "execution_count": 167,
   "metadata": {
    "collapsed": false
   },
   "outputs": [
    {
     "data": {
      "text/plain": [
       "<matplotlib.figure.Figure at 0x129c0c0d0>"
      ]
     },
     "execution_count": 167,
     "metadata": {},
     "output_type": "execute_result"
    },
    {
     "data": {
      "text/plain": [
       "<matplotlib.axes._subplots.AxesSubplot at 0x1275f6e10>"
      ]
     },
     "execution_count": 167,
     "metadata": {},
     "output_type": "execute_result"
    },
    {
     "data": {
      "text/plain": [
       "<matplotlib.figure.Figure at 0x129c0c0d0>"
      ]
     },
     "metadata": {},
     "output_type": "display_data"
    },
    {
     "data": {
      "image/png": "[encoded data removed]",
      "text/plain": [
       "<matplotlib.figure.Figure at 0x12759ec90>"
      ]
     },
     "metadata": {},
     "output_type": "display_data"
    }
   ],
   "source": [
    "plt.figure(figsize=(30,10))\n",
    "topgroupby = groupbyMonthYearDF.sort_values(by=\"Number of unique Clients contacted\", ascending=False).head(5)\n",
    "topgroupby.plot(kind=\"bar\", x=\"month-year\", y=\"Number of unique Clients contacted\", figsize=(20,8), legend=False, title=\"Unique Clients per Month\")"
   ]
  },
  {
   "cell_type": "code",
   "execution_count": null,
   "metadata": {
    "collapsed": true
   },
   "outputs": [],
   "source": []
  }
 ],
 "metadata": {
  "kernelspec": {
   "display_name": "Python 2",
   "language": "python",
   "name": "python2"
  },
  "language_info": {
   "codemirror_mode": {
    "name": "ipython",
    "version": 2
   },
   "file_extension": ".py",
   "mimetype": "text/x-python",
   "name": "python",
   "nbconvert_exporter": "python",
   "pygments_lexer": "ipython2",
   "version": "2.7.11"
  }
 },
 "nbformat": 4,
 "nbformat_minor": 0
}
